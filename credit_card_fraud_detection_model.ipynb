{
  "nbformat": 4,
  "nbformat_minor": 0,
  "metadata": {
    "colab": {
      "provenance": [],
      "toc_visible": true
    },
    "kernelspec": {
      "display_name": "Python 3",
      "name": "python3"
    },
    "language_info": {
      "name": "python"
    }
  },
  "cells": [
    {
      "cell_type": "code",
      "source": [
        "from google.colab import drive\n",
        "drive.mount('/content/drive')"
      ],
      "metadata": {
        "colab": {
          "base_uri": "https://localhost:8080/"
        },
        "id": "2z8uHxlKmCbm",
        "outputId": "b14a936d-2c8b-41cc-a776-93950449e678"
      },
      "execution_count": null,
      "outputs": [
        {
          "output_type": "stream",
          "name": "stdout",
          "text": [
            "Mounted at /content/drive\n"
          ]
        }
      ]
    },
    {
      "cell_type": "code",
      "metadata": {
        "id": "gRu9kpkYyztz"
      },
      "source": [
        "import pandas as pd\n",
        "import sklearn.metrics as metrique\n",
        "from pandas import Series\n",
        "from sklearn.preprocessing import StandardScaler, MinMaxScaler\n",
        "from matplotlib import pyplot\n",
        "from sklearn.model_selection import train_test_split\n",
        "import numpy as np\n",
        "from keras.callbacks import EarlyStopping\n",
        "from keras.utils import np_utils\n",
        "from keras.callbacks import ModelCheckpoint\n",
        "from sklearn.metrics import accuracy_score\n",
        "from sklearn.metrics import classification_report, confusion_matrix\n",
        "from keras.models import Sequential\n",
        "from keras.utils import np_utils\n",
        "from keras.layers import LSTM, Dense, Embedding, Dropout,Input, Attention, Layer, Concatenate, Permute, Dot, Multiply, Flatten\n",
        "from keras.layers import RepeatVector, Dense, Activation, Lambda\n",
        "from keras.models import Sequential\n",
        "from keras import backend as K, regularizers, Model, metrics\n",
        "from keras.backend import cast"
      ],
      "execution_count": null,
      "outputs": []
    },
    {
      "cell_type": "code",
      "metadata": {
        "id": "Mlth1eViyz_p"
      },
      "source": [
        "data = pd.read_csv('/content/drive/MyDrive/Dataset/creditcard (1).csv', na_filter=True)\n",
        "col_del = ['Time' ,'V5', 'V6', 'V7', 'V8', 'V9','V13','V15', 'V16',  'V18', 'V19', 'V20','V21', 'V22', 'V23', 'V24', 'V25', 'V26', 'V27', 'V28', 'Amount']"
      ],
      "execution_count": null,
      "outputs": []
    },
    {
      "cell_type": "code",
      "metadata": {
        "colab": {
          "base_uri": "https://localhost:8080/"
        },
        "id": "0D1roi0fy9hN",
        "outputId": "695eda3c-252c-4cb4-91b1-96c91f66371e"
      },
      "source": [
        "tr_data = data.drop(col_del,axis =1)\n",
        "tr_data.shape"
      ],
      "execution_count": null,
      "outputs": [
        {
          "output_type": "execute_result",
          "data": {
            "text/plain": [
              "(284807, 10)"
            ]
          },
          "metadata": {},
          "execution_count": 5
        }
      ]
    },
    {
      "cell_type": "code",
      "metadata": {
        "id": "SFjcDF3s2QId"
      },
      "source": [
        "X = tr_data.drop(['Class'], axis = 'columns')\n",
        "Label_Data = tr_data['Class']"
      ],
      "execution_count": null,
      "outputs": []
    },
    {
      "cell_type": "code",
      "metadata": {
        "colab": {
          "base_uri": "https://localhost:8080/"
        },
        "id": "9lP_i3psy9y6",
        "outputId": "453f510b-cd9c-41bf-c242-b873f4516cb1"
      },
      "source": [
        "# Generate and plot imbalanced classification dataset\n",
        "\n",
        "from matplotlib import pyplot\n",
        "from numpy import where\n",
        "# summarize class distribution\n",
        "counter = Counter(tr_data['Class'])\n",
        "print(counter)\n",
        "# scatter plot of examples by class labelfrom collections import Counter\n",
        "for label, _ in counter.items():\n",
        "\trow_ix = where(tr_data['Class'] == label)[0]"
      ],
      "execution_count": null,
      "outputs": [
        {
          "output_type": "stream",
          "name": "stdout",
          "text": [
            "Counter({0: 284315, 1: 492})\n"
          ]
        }
      ]
    },
    {
      "cell_type": "code",
      "metadata": {
        "id": "o4GOSe4tzcTv",
        "colab": {
          "base_uri": "https://localhost:8080/"
        },
        "outputId": "c608e543-3e8b-494e-906b-8d0c1899152a"
      },
      "source": [
        "# transform the dataset\n",
        "from imblearn.over_sampling import SMOTE\n",
        "oversample = SMOTE()\n",
        "X_r, y = oversample.fit_resample(X, tr_data['Class'])\n",
        "# summarize the new class distribution\n",
        "counter = Counter(y)\n",
        "print(counter)\n",
        "# scatter plot of examples by class label\n",
        "for label, _ in counter.items():\n",
        "\trow_ix = where(y == label)[0]"
      ],
      "execution_count": null,
      "outputs": [
        {
          "output_type": "stream",
          "name": "stdout",
          "text": [
            "Counter({0: 284315, 1: 284315})\n"
          ]
        }
      ]
    },
    {
      "cell_type": "code",
      "metadata": {
        "id": "rz6JhCFr0Iin"
      },
      "source": [
        "from sklearn.preprocessing import StandardScaler\n",
        "## Standardizing the data\n",
        "X_r2 = StandardScaler().fit_transform(X_r)"
      ],
      "execution_count": null,
      "outputs": []
    },
    {
      "cell_type": "code",
      "metadata": {
        "id": "t7l5EpLY0IqL"
      },
      "source": [
        "X_train,X_test,y_train,y_test = train_test_split(X_r2, y, test_size=0.2)"
      ],
      "execution_count": null,
      "outputs": []
    },
    {
      "cell_type": "code",
      "source": [],
      "metadata": {
        "id": "AzVa8tcrmk7g"
      },
      "execution_count": null,
      "outputs": []
    },
    {
      "cell_type": "code",
      "metadata": {
        "colab": {
          "base_uri": "https://localhost:8080/"
        },
        "id": "a4uohF3BPMIU",
        "outputId": "40b57563-d36d-48b0-9533-0864e2f9de47"
      },
      "source": [
        "X_train.shape"
      ],
      "execution_count": null,
      "outputs": [
        {
          "output_type": "execute_result",
          "data": {
            "text/plain": [
              "(454904, 9)"
            ]
          },
          "metadata": {},
          "execution_count": 11
        }
      ]
    },
    {
      "cell_type": "code",
      "metadata": {
        "colab": {
          "base_uri": "https://localhost:8080/"
        },
        "id": "4OaLUwRhPPhW",
        "outputId": "030d01bd-d84d-4549-9f20-3b3cddd63bfa"
      },
      "source": [
        "X_test.shape"
      ],
      "execution_count": null,
      "outputs": [
        {
          "output_type": "execute_result",
          "data": {
            "text/plain": [
              "(113726, 9)"
            ]
          },
          "metadata": {},
          "execution_count": 12
        }
      ]
    },
    {
      "cell_type": "code",
      "metadata": {
        "id": "eN6iBsXh0UJj"
      },
      "source": [
        "# design network\n",
        "np.random.seed(7)\n",
        "\n",
        "# X_train et X_val sont des dataframe qui contient les features\n",
        "train_LSTM_X=X_train\n",
        "val_LSTM_X=X_test\n",
        "\n",
        "## Reshape input to be 3D [samples, timesteps, features] (format requis par LSTM)\n",
        "train_LSTM_X = train_LSTM_X.reshape((train_LSTM_X.shape[0], 1, train_LSTM_X.shape[1]))\n",
        "val_LSTM_X = val_LSTM_X.reshape((val_LSTM_X.shape[0], 1, val_LSTM_X.shape[1]))\n",
        "\n",
        "## Recuperation des labels\n",
        "train_LSTM_y=y_train\n",
        "val_LSTM_y=y_test"
      ],
      "execution_count": null,
      "outputs": []
    },
    {
      "cell_type": "markdown",
      "source": [],
      "metadata": {
        "id": "LwXiKi51Q2-o"
      }
    },
    {
      "cell_type": "code",
      "metadata": {
        "id": "XOlGVbif0U-i"
      },
      "source": [
        "inputs=Input((1,9))\n",
        "x1=LSTM(50,dropout=0.3,recurrent_dropout=0.2)(inputs)\n",
        "x2=LSTM(50,dropout=0.3,recurrent_dropout=0.2)(inputs)\n",
        "x3=LSTM(50,dropout=0.3,recurrent_dropout=0.2)(inputs)\n",
        "outputs=Dense(1,activation='sigmoid')(x3)\n",
        "model=Model(inputs,outputs)"
      ],
      "execution_count": null,
      "outputs": []
    },
    {
      "cell_type": "code",
      "metadata": {
        "id": "rw1IxnEn0i7d"
      },
      "source": [
        "model.compile(loss='binary_crossentropy', optimizer='adam', metrics=['accuracy'])"
      ],
      "execution_count": null,
      "outputs": []
    },
    {
      "cell_type": "code",
      "metadata": {
        "id": "_jVAHW330VTL",
        "colab": {
          "base_uri": "https://localhost:8080/"
        },
        "outputId": "d866a93c-b8f6-4b4f-b5f5-0d29163020db"
      },
      "source": [
        "history=model.fit(train_LSTM_X, train_LSTM_y,epochs=100,batch_size=20000, validation_data=(val_LSTM_X, val_LSTM_y))"
      ],
      "execution_count": null,
      "outputs": [
        {
          "output_type": "stream",
          "name": "stdout",
          "text": [
            "Epoch 1/100\n",
            "23/23 [==============================] - 6s 143ms/step - loss: 0.6511 - accuracy: 0.7397 - val_loss: 0.5841 - val_accuracy: 0.8700\n",
            "Epoch 2/100\n",
            "23/23 [==============================] - 3s 124ms/step - loss: 0.5444 - accuracy: 0.8704 - val_loss: 0.4906 - val_accuracy: 0.8810\n",
            "Epoch 3/100\n",
            "23/23 [==============================] - 3s 128ms/step - loss: 0.4656 - accuracy: 0.8792 - val_loss: 0.4213 - val_accuracy: 0.8921\n",
            "Epoch 4/100\n",
            "23/23 [==============================] - 3s 125ms/step - loss: 0.4047 - accuracy: 0.8890 - val_loss: 0.3669 - val_accuracy: 0.9013\n",
            "Epoch 5/100\n",
            "23/23 [==============================] - 3s 123ms/step - loss: 0.3580 - accuracy: 0.8968 - val_loss: 0.3262 - val_accuracy: 0.9066\n",
            "Epoch 6/100\n",
            "23/23 [==============================] - 3s 124ms/step - loss: 0.3238 - accuracy: 0.9026 - val_loss: 0.2973 - val_accuracy: 0.9088\n",
            "Epoch 7/100\n",
            "23/23 [==============================] - 3s 125ms/step - loss: 0.3000 - accuracy: 0.9064 - val_loss: 0.2760 - val_accuracy: 0.9105\n",
            "Epoch 8/100\n",
            "23/23 [==============================] - 3s 127ms/step - loss: 0.2820 - accuracy: 0.9092 - val_loss: 0.2595 - val_accuracy: 0.9109\n",
            "Epoch 9/100\n",
            "23/23 [==============================] - 3s 128ms/step - loss: 0.2679 - accuracy: 0.9112 - val_loss: 0.2460 - val_accuracy: 0.9113\n",
            "Epoch 10/100\n",
            "23/23 [==============================] - 3s 124ms/step - loss: 0.2572 - accuracy: 0.9128 - val_loss: 0.2347 - val_accuracy: 0.9123\n",
            "Epoch 11/100\n",
            "23/23 [==============================] - 3s 125ms/step - loss: 0.2485 - accuracy: 0.9149 - val_loss: 0.2254 - val_accuracy: 0.9164\n",
            "Epoch 12/100\n",
            "23/23 [==============================] - 3s 126ms/step - loss: 0.2413 - accuracy: 0.9165 - val_loss: 0.2176 - val_accuracy: 0.9216\n",
            "Epoch 13/100\n",
            "23/23 [==============================] - 3s 122ms/step - loss: 0.2350 - accuracy: 0.9181 - val_loss: 0.2111 - val_accuracy: 0.9254\n",
            "Epoch 14/100\n",
            "23/23 [==============================] - 3s 124ms/step - loss: 0.2307 - accuracy: 0.9191 - val_loss: 0.2058 - val_accuracy: 0.9269\n",
            "Epoch 15/100\n",
            "23/23 [==============================] - 3s 124ms/step - loss: 0.2266 - accuracy: 0.9205 - val_loss: 0.2015 - val_accuracy: 0.9278\n",
            "Epoch 16/100\n",
            "23/23 [==============================] - 3s 125ms/step - loss: 0.2234 - accuracy: 0.9211 - val_loss: 0.1979 - val_accuracy: 0.9285\n",
            "Epoch 17/100\n",
            "23/23 [==============================] - 3s 130ms/step - loss: 0.2204 - accuracy: 0.9214 - val_loss: 0.1950 - val_accuracy: 0.9290\n",
            "Epoch 18/100\n",
            "23/23 [==============================] - 3s 126ms/step - loss: 0.2177 - accuracy: 0.9221 - val_loss: 0.1923 - val_accuracy: 0.9300\n",
            "Epoch 19/100\n",
            "23/23 [==============================] - 3s 124ms/step - loss: 0.2151 - accuracy: 0.9229 - val_loss: 0.1902 - val_accuracy: 0.9303\n",
            "Epoch 20/100\n",
            "23/23 [==============================] - 3s 127ms/step - loss: 0.2131 - accuracy: 0.9230 - val_loss: 0.1883 - val_accuracy: 0.9307\n",
            "Epoch 21/100\n",
            "23/23 [==============================] - 3s 124ms/step - loss: 0.2106 - accuracy: 0.9243 - val_loss: 0.1863 - val_accuracy: 0.9320\n",
            "Epoch 22/100\n",
            "23/23 [==============================] - 3s 124ms/step - loss: 0.2083 - accuracy: 0.9244 - val_loss: 0.1849 - val_accuracy: 0.9326\n",
            "Epoch 23/100\n",
            "23/23 [==============================] - 3s 127ms/step - loss: 0.2069 - accuracy: 0.9249 - val_loss: 0.1834 - val_accuracy: 0.9336\n",
            "Epoch 24/100\n",
            "23/23 [==============================] - 3s 126ms/step - loss: 0.2051 - accuracy: 0.9254 - val_loss: 0.1820 - val_accuracy: 0.9342\n",
            "Epoch 25/100\n",
            "23/23 [==============================] - 3s 124ms/step - loss: 0.2032 - accuracy: 0.9259 - val_loss: 0.1806 - val_accuracy: 0.9345\n",
            "Epoch 26/100\n",
            "23/23 [==============================] - 3s 124ms/step - loss: 0.2019 - accuracy: 0.9265 - val_loss: 0.1796 - val_accuracy: 0.9346\n",
            "Epoch 27/100\n",
            "23/23 [==============================] - 3s 124ms/step - loss: 0.2001 - accuracy: 0.9271 - val_loss: 0.1783 - val_accuracy: 0.9349\n",
            "Epoch 28/100\n",
            "23/23 [==============================] - 3s 126ms/step - loss: 0.1982 - accuracy: 0.9279 - val_loss: 0.1773 - val_accuracy: 0.9351\n",
            "Epoch 29/100\n",
            "23/23 [==============================] - 3s 129ms/step - loss: 0.1970 - accuracy: 0.9280 - val_loss: 0.1762 - val_accuracy: 0.9352\n",
            "Epoch 30/100\n",
            "23/23 [==============================] - 3s 125ms/step - loss: 0.1954 - accuracy: 0.9283 - val_loss: 0.1752 - val_accuracy: 0.9355\n",
            "Epoch 31/100\n",
            "23/23 [==============================] - 3s 127ms/step - loss: 0.1943 - accuracy: 0.9288 - val_loss: 0.1745 - val_accuracy: 0.9356\n",
            "Epoch 32/100\n",
            "23/23 [==============================] - 3s 124ms/step - loss: 0.1931 - accuracy: 0.9290 - val_loss: 0.1735 - val_accuracy: 0.9357\n",
            "Epoch 33/100\n",
            "23/23 [==============================] - 3s 125ms/step - loss: 0.1927 - accuracy: 0.9291 - val_loss: 0.1729 - val_accuracy: 0.9358\n",
            "Epoch 34/100\n",
            "23/23 [==============================] - 3s 126ms/step - loss: 0.1916 - accuracy: 0.9296 - val_loss: 0.1722 - val_accuracy: 0.9359\n",
            "Epoch 35/100\n",
            "23/23 [==============================] - 3s 126ms/step - loss: 0.1905 - accuracy: 0.9296 - val_loss: 0.1718 - val_accuracy: 0.9359\n",
            "Epoch 36/100\n",
            "23/23 [==============================] - 3s 125ms/step - loss: 0.1901 - accuracy: 0.9298 - val_loss: 0.1711 - val_accuracy: 0.9360\n",
            "Epoch 37/100\n",
            "23/23 [==============================] - 3s 126ms/step - loss: 0.1894 - accuracy: 0.9299 - val_loss: 0.1705 - val_accuracy: 0.9359\n",
            "Epoch 38/100\n",
            "23/23 [==============================] - 3s 129ms/step - loss: 0.1889 - accuracy: 0.9302 - val_loss: 0.1701 - val_accuracy: 0.9359\n",
            "Epoch 39/100\n",
            "23/23 [==============================] - 3s 125ms/step - loss: 0.1879 - accuracy: 0.9304 - val_loss: 0.1697 - val_accuracy: 0.9359\n",
            "Epoch 40/100\n",
            "23/23 [==============================] - 3s 127ms/step - loss: 0.1876 - accuracy: 0.9306 - val_loss: 0.1692 - val_accuracy: 0.9360\n",
            "Epoch 41/100\n",
            "23/23 [==============================] - 3s 123ms/step - loss: 0.1870 - accuracy: 0.9307 - val_loss: 0.1689 - val_accuracy: 0.9361\n",
            "Epoch 42/100\n",
            "23/23 [==============================] - 3s 123ms/step - loss: 0.1865 - accuracy: 0.9305 - val_loss: 0.1685 - val_accuracy: 0.9361\n",
            "Epoch 43/100\n",
            "23/23 [==============================] - 3s 124ms/step - loss: 0.1863 - accuracy: 0.9307 - val_loss: 0.1681 - val_accuracy: 0.9361\n",
            "Epoch 44/100\n",
            "23/23 [==============================] - 3s 126ms/step - loss: 0.1862 - accuracy: 0.9304 - val_loss: 0.1681 - val_accuracy: 0.9361\n",
            "Epoch 45/100\n",
            "23/23 [==============================] - 3s 125ms/step - loss: 0.1855 - accuracy: 0.9307 - val_loss: 0.1676 - val_accuracy: 0.9362\n",
            "Epoch 46/100\n",
            "23/23 [==============================] - 3s 122ms/step - loss: 0.1853 - accuracy: 0.9307 - val_loss: 0.1673 - val_accuracy: 0.9362\n",
            "Epoch 47/100\n",
            "23/23 [==============================] - 3s 126ms/step - loss: 0.1850 - accuracy: 0.9307 - val_loss: 0.1671 - val_accuracy: 0.9362\n",
            "Epoch 48/100\n",
            "23/23 [==============================] - 3s 127ms/step - loss: 0.1845 - accuracy: 0.9310 - val_loss: 0.1669 - val_accuracy: 0.9362\n",
            "Epoch 49/100\n",
            "23/23 [==============================] - 3s 127ms/step - loss: 0.1844 - accuracy: 0.9313 - val_loss: 0.1666 - val_accuracy: 0.9363\n",
            "Epoch 50/100\n",
            "23/23 [==============================] - 3s 131ms/step - loss: 0.1843 - accuracy: 0.9309 - val_loss: 0.1664 - val_accuracy: 0.9363\n",
            "Epoch 51/100\n",
            "23/23 [==============================] - 3s 128ms/step - loss: 0.1837 - accuracy: 0.9313 - val_loss: 0.1662 - val_accuracy: 0.9364\n",
            "Epoch 52/100\n",
            "23/23 [==============================] - 3s 126ms/step - loss: 0.1832 - accuracy: 0.9315 - val_loss: 0.1660 - val_accuracy: 0.9364\n",
            "Epoch 53/100\n",
            "23/23 [==============================] - 3s 127ms/step - loss: 0.1834 - accuracy: 0.9315 - val_loss: 0.1656 - val_accuracy: 0.9365\n",
            "Epoch 54/100\n",
            "23/23 [==============================] - 3s 126ms/step - loss: 0.1833 - accuracy: 0.9313 - val_loss: 0.1656 - val_accuracy: 0.9365\n",
            "Epoch 55/100\n",
            "23/23 [==============================] - 3s 125ms/step - loss: 0.1833 - accuracy: 0.9313 - val_loss: 0.1653 - val_accuracy: 0.9365\n",
            "Epoch 56/100\n",
            "23/23 [==============================] - 3s 125ms/step - loss: 0.1826 - accuracy: 0.9313 - val_loss: 0.1652 - val_accuracy: 0.9366\n",
            "Epoch 57/100\n",
            "23/23 [==============================] - 3s 124ms/step - loss: 0.1823 - accuracy: 0.9318 - val_loss: 0.1649 - val_accuracy: 0.9367\n",
            "Epoch 58/100\n",
            "23/23 [==============================] - 3s 125ms/step - loss: 0.1826 - accuracy: 0.9314 - val_loss: 0.1647 - val_accuracy: 0.9367\n",
            "Epoch 59/100\n",
            "23/23 [==============================] - 3s 127ms/step - loss: 0.1819 - accuracy: 0.9316 - val_loss: 0.1646 - val_accuracy: 0.9366\n",
            "Epoch 60/100\n",
            "23/23 [==============================] - 3s 127ms/step - loss: 0.1820 - accuracy: 0.9317 - val_loss: 0.1644 - val_accuracy: 0.9366\n",
            "Epoch 61/100\n",
            "23/23 [==============================] - 3s 126ms/step - loss: 0.1814 - accuracy: 0.9316 - val_loss: 0.1642 - val_accuracy: 0.9367\n",
            "Epoch 62/100\n",
            "23/23 [==============================] - 3s 128ms/step - loss: 0.1815 - accuracy: 0.9316 - val_loss: 0.1638 - val_accuracy: 0.9367\n",
            "Epoch 63/100\n",
            "23/23 [==============================] - 3s 125ms/step - loss: 0.1810 - accuracy: 0.9318 - val_loss: 0.1638 - val_accuracy: 0.9367\n",
            "Epoch 64/100\n",
            "23/23 [==============================] - 3s 125ms/step - loss: 0.1813 - accuracy: 0.9318 - val_loss: 0.1635 - val_accuracy: 0.9368\n",
            "Epoch 65/100\n",
            "23/23 [==============================] - 3s 127ms/step - loss: 0.1808 - accuracy: 0.9317 - val_loss: 0.1634 - val_accuracy: 0.9368\n",
            "Epoch 66/100\n",
            "23/23 [==============================] - 3s 124ms/step - loss: 0.1809 - accuracy: 0.9316 - val_loss: 0.1633 - val_accuracy: 0.9368\n",
            "Epoch 67/100\n",
            "23/23 [==============================] - 3s 126ms/step - loss: 0.1807 - accuracy: 0.9317 - val_loss: 0.1631 - val_accuracy: 0.9369\n",
            "Epoch 68/100\n",
            "23/23 [==============================] - 3s 125ms/step - loss: 0.1802 - accuracy: 0.9321 - val_loss: 0.1629 - val_accuracy: 0.9369\n",
            "Epoch 69/100\n",
            "23/23 [==============================] - 3s 124ms/step - loss: 0.1793 - accuracy: 0.9321 - val_loss: 0.1626 - val_accuracy: 0.9369\n",
            "Epoch 70/100\n",
            "23/23 [==============================] - 3s 123ms/step - loss: 0.1799 - accuracy: 0.9317 - val_loss: 0.1624 - val_accuracy: 0.9369\n",
            "Epoch 71/100\n",
            "23/23 [==============================] - 3s 125ms/step - loss: 0.1794 - accuracy: 0.9320 - val_loss: 0.1622 - val_accuracy: 0.9370\n",
            "Epoch 72/100\n",
            "23/23 [==============================] - 3s 124ms/step - loss: 0.1792 - accuracy: 0.9319 - val_loss: 0.1620 - val_accuracy: 0.9370\n",
            "Epoch 73/100\n",
            "23/23 [==============================] - 3s 126ms/step - loss: 0.1791 - accuracy: 0.9323 - val_loss: 0.1617 - val_accuracy: 0.9369\n",
            "Epoch 74/100\n",
            "23/23 [==============================] - 3s 124ms/step - loss: 0.1790 - accuracy: 0.9320 - val_loss: 0.1617 - val_accuracy: 0.9371\n",
            "Epoch 75/100\n",
            "23/23 [==============================] - 3s 125ms/step - loss: 0.1789 - accuracy: 0.9321 - val_loss: 0.1612 - val_accuracy: 0.9370\n",
            "Epoch 76/100\n",
            "23/23 [==============================] - 3s 126ms/step - loss: 0.1783 - accuracy: 0.9324 - val_loss: 0.1613 - val_accuracy: 0.9371\n",
            "Epoch 77/100\n",
            "23/23 [==============================] - 3s 126ms/step - loss: 0.1782 - accuracy: 0.9321 - val_loss: 0.1607 - val_accuracy: 0.9374\n",
            "Epoch 78/100\n",
            "23/23 [==============================] - 3s 124ms/step - loss: 0.1779 - accuracy: 0.9324 - val_loss: 0.1607 - val_accuracy: 0.9373\n",
            "Epoch 79/100\n",
            "23/23 [==============================] - 3s 126ms/step - loss: 0.1779 - accuracy: 0.9324 - val_loss: 0.1607 - val_accuracy: 0.9372\n",
            "Epoch 80/100\n",
            "23/23 [==============================] - 3s 130ms/step - loss: 0.1781 - accuracy: 0.9323 - val_loss: 0.1603 - val_accuracy: 0.9375\n",
            "Epoch 81/100\n",
            "23/23 [==============================] - 3s 123ms/step - loss: 0.1776 - accuracy: 0.9323 - val_loss: 0.1602 - val_accuracy: 0.9375\n",
            "Epoch 82/100\n",
            "23/23 [==============================] - 3s 122ms/step - loss: 0.1768 - accuracy: 0.9325 - val_loss: 0.1599 - val_accuracy: 0.9376\n",
            "Epoch 83/100\n",
            "23/23 [==============================] - 3s 122ms/step - loss: 0.1770 - accuracy: 0.9326 - val_loss: 0.1597 - val_accuracy: 0.9376\n",
            "Epoch 84/100\n",
            "23/23 [==============================] - 3s 124ms/step - loss: 0.1771 - accuracy: 0.9326 - val_loss: 0.1596 - val_accuracy: 0.9376\n",
            "Epoch 85/100\n",
            "23/23 [==============================] - 3s 123ms/step - loss: 0.1761 - accuracy: 0.9327 - val_loss: 0.1592 - val_accuracy: 0.9377\n",
            "Epoch 86/100\n",
            "23/23 [==============================] - 3s 125ms/step - loss: 0.1766 - accuracy: 0.9326 - val_loss: 0.1590 - val_accuracy: 0.9377\n",
            "Epoch 87/100\n",
            "23/23 [==============================] - 3s 126ms/step - loss: 0.1761 - accuracy: 0.9327 - val_loss: 0.1589 - val_accuracy: 0.9378\n",
            "Epoch 88/100\n",
            "23/23 [==============================] - 3s 124ms/step - loss: 0.1756 - accuracy: 0.9326 - val_loss: 0.1585 - val_accuracy: 0.9379\n",
            "Epoch 89/100\n",
            "23/23 [==============================] - 3s 127ms/step - loss: 0.1763 - accuracy: 0.9326 - val_loss: 0.1584 - val_accuracy: 0.9379\n",
            "Epoch 90/100\n",
            "23/23 [==============================] - 3s 129ms/step - loss: 0.1752 - accuracy: 0.9328 - val_loss: 0.1581 - val_accuracy: 0.9380\n",
            "Epoch 91/100\n",
            "23/23 [==============================] - 3s 129ms/step - loss: 0.1754 - accuracy: 0.9329 - val_loss: 0.1580 - val_accuracy: 0.9379\n",
            "Epoch 92/100\n",
            "23/23 [==============================] - 3s 128ms/step - loss: 0.1750 - accuracy: 0.9327 - val_loss: 0.1576 - val_accuracy: 0.9381\n",
            "Epoch 93/100\n",
            "23/23 [==============================] - 3s 128ms/step - loss: 0.1750 - accuracy: 0.9328 - val_loss: 0.1574 - val_accuracy: 0.9381\n",
            "Epoch 94/100\n",
            "23/23 [==============================] - 3s 125ms/step - loss: 0.1742 - accuracy: 0.9330 - val_loss: 0.1573 - val_accuracy: 0.9381\n",
            "Epoch 95/100\n",
            "23/23 [==============================] - 3s 127ms/step - loss: 0.1742 - accuracy: 0.9331 - val_loss: 0.1570 - val_accuracy: 0.9381\n",
            "Epoch 96/100\n",
            "23/23 [==============================] - 3s 130ms/step - loss: 0.1743 - accuracy: 0.9332 - val_loss: 0.1568 - val_accuracy: 0.9382\n",
            "Epoch 97/100\n",
            "23/23 [==============================] - 3s 125ms/step - loss: 0.1740 - accuracy: 0.9331 - val_loss: 0.1568 - val_accuracy: 0.9382\n",
            "Epoch 98/100\n",
            "23/23 [==============================] - 3s 125ms/step - loss: 0.1738 - accuracy: 0.9330 - val_loss: 0.1566 - val_accuracy: 0.9382\n",
            "Epoch 99/100\n",
            "23/23 [==============================] - 3s 124ms/step - loss: 0.1731 - accuracy: 0.9332 - val_loss: 0.1564 - val_accuracy: 0.9382\n",
            "Epoch 100/100\n",
            "23/23 [==============================] - 3s 126ms/step - loss: 0.1733 - accuracy: 0.9335 - val_loss: 0.1560 - val_accuracy: 0.9384\n"
          ]
        }
      ]
    },
    {
      "cell_type": "code",
      "metadata": {
        "colab": {
          "base_uri": "https://localhost:8080/"
        },
        "id": "gLCxQgUtIV6A",
        "outputId": "666d42a0-3252-4b0c-a43c-e633bfa61030"
      },
      "source": [
        "# save model and architecture to single file\n",
        "model.save('Save_Modelroc.h5')\n",
        "print(\"Saved model to disk\")"
      ],
      "execution_count": null,
      "outputs": [
        {
          "output_type": "stream",
          "name": "stdout",
          "text": [
            "Saved model to disk\n"
          ]
        }
      ]
    },
    {
      "cell_type": "code",
      "metadata": {
        "id": "YZ58n-qPJEub",
        "colab": {
          "base_uri": "https://localhost:8080/"
        },
        "outputId": "b37c4dfd-1307-4306-8c4d-2aea43901f83"
      },
      "source": [
        "# load and evaluate a saved model\n",
        "from numpy import loadtxt\n",
        "from keras.models import load_model\n",
        "\n",
        "# load model\n",
        "model = load_model('Save_Modelroc.h5')\n",
        "# summarize model.\n",
        "model.summary()"
      ],
      "execution_count": null,
      "outputs": [
        {
          "output_type": "stream",
          "name": "stdout",
          "text": [
            "Model: \"model\"\n",
            "_________________________________________________________________\n",
            " Layer (type)                Output Shape              Param #   \n",
            "=================================================================\n",
            " input_1 (InputLayer)        [(None, 1, 9)]            0         \n",
            "                                                                 \n",
            " lstm_2 (LSTM)               (None, 50)                12000     \n",
            "                                                                 \n",
            " dense (Dense)               (None, 1)                 51        \n",
            "                                                                 \n",
            "=================================================================\n",
            "Total params: 12,051\n",
            "Trainable params: 12,051\n",
            "Non-trainable params: 0\n",
            "_________________________________________________________________\n"
          ]
        }
      ]
    },
    {
      "cell_type": "code",
      "metadata": {
        "colab": {
          "base_uri": "https://localhost:8080/"
        },
        "id": "U6xqSOxSJHd8",
        "outputId": "9228662f-d697-4ca7-bc80-794354dc3715"
      },
      "source": [
        "# evaluate the model\n",
        "_, train_acc = model.evaluate(train_LSTM_X, train_LSTM_y, verbose=0)\n",
        "_, test_acc = model.evaluate(val_LSTM_X, val_LSTM_y, verbose=0)\n",
        "print('Train: %.3f, Test: %.3f' % (train_acc, test_acc))"
      ],
      "execution_count": null,
      "outputs": [
        {
          "output_type": "stream",
          "name": "stdout",
          "text": [
            "Train: 0.938, Test: 0.938\n"
          ]
        }
      ]
    },
    {
      "cell_type": "code",
      "metadata": {
        "colab": {
          "base_uri": "https://localhost:8080/",
          "height": 180
        },
        "id": "hYW2snaetW2W",
        "outputId": "bcee2c65-32c0-4408-8894-e5828cc2e1f4"
      },
      "source": [
        "# plot loss during training\n",
        "pyplot.subplot(211)\n",
        "pyplot.title('Loss')\n",
        "pyplot.plot(history.history['loss'], label='train')\n",
        "pyplot.plot(history.history['val_loss'], label='test')\n",
        "pyplot.legend()\n"
      ],
      "execution_count": null,
      "outputs": [
        {
          "output_type": "execute_result",
          "data": {
            "text/plain": [
              "<matplotlib.legend.Legend at 0x7f78d1545b90>"
            ]
          },
          "metadata": {},
          "execution_count": 21
        },
        {
          "output_type": "display_data",
          "data": {
            "image/png": "[encoded data removed]",
            "text/plain": [
              "<Figure size 432x288 with 1 Axes>"
            ]
          },
          "metadata": {
            "needs_background": "light"
          }
        }
      ]
    },
    {
      "cell_type": "code",
      "source": [
        "# plot accuracy during training\n",
        "pyplot.subplot(212)\n",
        "pyplot.title('Accuracy')\n",
        "pyplot.plot(history.history['accuracy'], label='train')\n",
        "pyplot.plot(history.history['val_accuracy'], label='test')\n",
        "pyplot.legend()\n",
        "pyplot.show()"
      ],
      "metadata": {
        "colab": {
          "base_uri": "https://localhost:8080/",
          "height": 163
        },
        "id": "pk-jmCOPePjT",
        "outputId": "bc0724a2-faf7-43aa-af16-a828d1febd7f"
      },
      "execution_count": null,
      "outputs": [
        {
          "output_type": "display_data",
          "data": {
            "image/png": "[encoded data removed]",
            "text/plain": [
              "<Figure size 432x288 with 1 Axes>"
            ]
          },
          "metadata": {
            "needs_background": "light"
          }
        }
      ]
    },
    {
      "cell_type": "code",
      "metadata": {
        "id": "lUAD5FIS3Z1I"
      },
      "source": [
        "# predict probabilities for test set\n",
        "yhat_probs = model.predict(val_LSTM_X, verbose=0)\n",
        "# reduce to 1d array\n",
        "yhat_probs = yhat_probs[:, 0]"
      ],
      "execution_count": null,
      "outputs": []
    },
    {
      "cell_type": "code",
      "metadata": {
        "colab": {
          "base_uri": "https://localhost:8080/"
        },
        "id": "eiN2cjwX4Dzp",
        "outputId": "1127bd62-9eeb-43d1-b1fb-7062fc9ad182"
      },
      "source": [
        "# demonstration of calculating metrics for a neural network model using sklearn\n",
        "from sklearn.metrics import accuracy_score\n",
        "from sklearn.metrics import precision_score\n",
        "from sklearn.metrics import precision_recall_curve\n",
        "from sklearn.metrics import recall_score\n",
        "from sklearn.metrics import confusion_matrix\n",
        "\n",
        "# accuracy: (tp + tn) / (p + n)\n",
        "accuracy = accuracy_score(val_LSTM_y, yhat_probs.round())\n",
        "print('Accuracy: %f' % accuracy)\n",
        "# precision tp / (tp + fp)\n",
        "precision = precision_score(val_LSTM_y, yhat_probs.round())\n",
        "print('Precision: %f' % precision)\n",
        "# recall: tp / (tp + fn)\n",
        "recall = recall_score(val_LSTM_y, yhat_probs.round())\n",
        "print('Recall: %f' % recall)\n"
      ],
      "execution_count": null,
      "outputs": [
        {
          "output_type": "stream",
          "name": "stdout",
          "text": [
            "Accuracy: 0.938378\n",
            "Precision: 0.987465\n",
            "Recall: 0.888373\n"
          ]
        }
      ]
    },
    {
      "cell_type": "code",
      "source": [
        "import matplotlib.pyplot as plt\n",
        "#precision-recall curve\n",
        "precision, recall, thresholds_pr = precision_recall_curve(val_LSTM_y,yhat_probs )\n",
        "fig,ax=plt.subplots()\n",
        "ax.plot(recall,precision,color='purple')\n",
        "ax.set_title('precision-recall-curve')\n",
        "ax.set_ylabel('precision')\n",
        "ax.set_xlabel('recall')\n",
        "plt.show()"
      ],
      "metadata": {
        "colab": {
          "base_uri": "https://localhost:8080/",
          "height": 295
        },
        "id": "jU_4D6X4uOSU",
        "outputId": "4ecd0f78-a0f9-4b6c-f247-932f5294be2c"
      },
      "execution_count": null,
      "outputs": [
        {
          "output_type": "display_data",
          "data": {
            "image/png": "[encoded data removed]",
            "text/plain": [
              "<Figure size 432x288 with 1 Axes>"
            ]
          },
          "metadata": {
            "needs_background": "light"
          }
        }
      ]
    },
    {
      "cell_type": "code",
      "metadata": {
        "id": "02D_-hIJ4JiB"
      },
      "source": [
        "%matplotlib inline\n",
        "from sklearn.metrics import confusion_matrix\n",
        "import itertools\n",
        "import matplotlib.pyplot as plt"
      ],
      "execution_count": null,
      "outputs": []
    },
    {
      "cell_type": "code",
      "metadata": {
        "id": "D5jRpnhBCKKM"
      },
      "source": [
        "cm = confusion_matrix(y_true=val_LSTM_y, y_pred=yhat_probs.round())"
      ],
      "execution_count": null,
      "outputs": []
    },
    {
      "cell_type": "code",
      "metadata": {
        "id": "G6wvKPIQCKYs"
      },
      "source": [
        "def plot_confusion_matrix(cm, classes,\n",
        "                        normalize=False,\n",
        "                        title='Confusion matrix',\n",
        "                        cmap=plt.cm.Blues):\n",
        "    \"\"\"\n",
        "    This function prints and plots the confusion matrix.\n",
        "    Normalization can be applied by setting `normalize=True`.\n",
        "    \"\"\"\n",
        "    plt.imshow(cm, interpolation='nearest', cmap=cmap)\n",
        "    plt.title(title)\n",
        "    plt.colorbar()\n",
        "    tick_marks = np.arange(len(classes))\n",
        "    plt.xticks(tick_marks, classes, rotation=45)\n",
        "    plt.yticks(tick_marks, classes)\n",
        "\n",
        "    if normalize:\n",
        "        cm = cm.astype('float') / cm.sum(axis=1)[:, np.newaxis]\n",
        "        print(\"Normalized confusion matrix\")\n",
        "    else:\n",
        "        print('Confusion matrix, without normalization')\n",
        "\n",
        "    print(cm)\n",
        "\n",
        "    thresh = cm.max() / 2.\n",
        "    for i, j in itertools.product(range(cm.shape[0]), range(cm.shape[1])):\n",
        "        plt.text(j, i, cm[i, j],\n",
        "            horizontalalignment=\"center\",\n",
        "            color=\"white\" if cm[i, j] > thresh else \"black\")\n",
        "\n",
        "    plt.tight_layout()\n",
        "    plt.ylabel('True label')\n",
        "    plt.xlabel('Predicted label')\n",
        "labels = ['Normal','Fraud']"
      ],
      "execution_count": null,
      "outputs": []
    },
    {
      "cell_type": "code",
      "metadata": {
        "colab": {
          "base_uri": "https://localhost:8080/",
          "height": 363
        },
        "id": "K3CQINI1VyI8",
        "outputId": "f188fe1e-0dbe-4e39-83b1-7b767ae1f88d"
      },
      "source": [
        "plot_confusion_matrix(cm=cm, classes=labels, title='LSTM')"
      ],
      "execution_count": null,
      "outputs": [
        {
          "output_type": "stream",
          "name": "stdout",
          "text": [
            "Confusion matrix, without normalization\n",
            "[[56063   643]\n",
            " [ 6365 50655]]\n"
          ]
        },
        {
          "output_type": "display_data",
          "data": {
            "image/png": "[encoded data removed]",
            "text/plain": [
              "<Figure size 432x288 with 2 Axes>"
            ]
          },
          "metadata": {
            "needs_background": "light"
          }
        }
      ]
    },
    {
      "cell_type": "code",
      "source": [
        "from sklearn.metrics import (confusion_matrix, precision_recall_curve, auc,\n",
        "                             roc_curve, recall_score, classification_report, f1_score,\n",
        "                             precision_recall_fscore_support)\n",
        "\n",
        "fpr, tpr, thresholds = roc_curve(val_LSTM_y,yhat_probs)\n",
        "roc_auc = auc(fpr, tpr)\n",
        "\n",
        "plt.title('Receiver Operating Characteristic')\n",
        "plt.plot(fpr, tpr, label='AUC = %0.4f'% roc_auc)\n",
        "plt.legend(loc='lower right')\n",
        "plt.plot([0,1],[0,1],'r--')\n",
        "plt.xlim([-0.001, 1])\n",
        "plt.ylim([0, 1.001])\n",
        "plt.ylabel('True Positive Rate')\n",
        "plt.xlabel('False Positive Rate')\n",
        "plt.show();"
      ],
      "metadata": {
        "id": "8l0QdmIsefLJ",
        "colab": {
          "base_uri": "https://localhost:8080/",
          "height": 295
        },
        "outputId": "38e953c1-d76c-49bc-f49e-ca79472bae74"
      },
      "execution_count": null,
      "outputs": [
        {
          "output_type": "display_data",
          "data": {
            "image/png": "[encoded data removed]",
            "text/plain": [
              "<Figure size 432x288 with 1 Axes>"
            ]
          },
          "metadata": {
            "needs_background": "light"
          }
        }
      ]
    }
  ]
}